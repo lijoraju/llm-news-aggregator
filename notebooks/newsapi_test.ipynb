{
 "cells": [
  {
   "cell_type": "code",
   "execution_count": 1,
   "id": "69ed8df5",
   "metadata": {},
   "outputs": [],
   "source": [
    "import sys\n",
    "import os\n",
    "sys.path.append(os.path.abspath(\"../src\"))"
   ]
  },
  {
   "cell_type": "code",
   "execution_count": 2,
   "id": "26ce574b",
   "metadata": {},
   "outputs": [],
   "source": [
    "from scraping.article_extractor import extract_full_articles\n",
    "from scraping.newsapi_scraper import fetch_news"
   ]
  },
  {
   "cell_type": "code",
   "execution_count": 3,
   "id": "0c94dad1",
   "metadata": {},
   "outputs": [],
   "source": [
    "articles = fetch_news(query=\"machine learning\", from_days_ago=2, page_size=20, save=True)"
   ]
  },
  {
   "cell_type": "code",
   "execution_count": 4,
   "id": "77204645",
   "metadata": {},
   "outputs": [
    {
     "name": "stderr",
     "output_type": "stream",
     "text": [
      " 12%|█▏        | 7/60 [00:07<00:52,  1.01it/s]"
     ]
    },
    {
     "name": "stdout",
     "output_type": "stream",
     "text": [
      "Failed to extract https://www.androidpolice.com/samsung-one-ui-features-i-wish-all-android-phones-had/ - Article `download()` failed with ('Connection aborted.', RemoteDisconnected('Remote end closed connection without response')) on URL https://www.androidpolice.com/samsung-one-ui-features-i-wish-all-android-phones-had/\n"
     ]
    },
    {
     "name": "stderr",
     "output_type": "stream",
     "text": [
      " 13%|█▎        | 8/60 [00:08<00:49,  1.05it/s]"
     ]
    },
    {
     "name": "stdout",
     "output_type": "stream",
     "text": [
      "Failed to extract https://www.xda-developers.com/this-open-source-notion-alternative-runs-entirely-on-your-nas/ - Article `download()` failed with ('Connection aborted.', RemoteDisconnected('Remote end closed connection without response')) on URL https://www.xda-developers.com/this-open-source-notion-alternative-runs-entirely-on-your-nas/\n"
     ]
    },
    {
     "name": "stderr",
     "output_type": "stream",
     "text": [
      " 17%|█▋        | 10/60 [00:09<00:34,  1.44it/s]"
     ]
    },
    {
     "name": "stdout",
     "output_type": "stream",
     "text": [
      "Failed to extract https://www.forbes.com/sites/scottwhite/2025/05/17/gen-zs-new-college-calculus-skills-not-stadiums/ - Article `download()` failed with 403 Client Error: Max restarts limit reached for url: https://www.forbes.com/sites/scottwhite/2025/05/17/gen-zs-new-college-calculus-skills-not-stadiums/ on URL https://www.forbes.com/sites/scottwhite/2025/05/17/gen-zs-new-college-calculus-skills-not-stadiums/\n"
     ]
    },
    {
     "name": "stderr",
     "output_type": "stream",
     "text": [
      " 22%|██▏       | 13/60 [00:10<00:21,  2.16it/s]"
     ]
    },
    {
     "name": "stdout",
     "output_type": "stream",
     "text": [
      "Failed to extract https://www.forbes.com/sites/adrianbridgwater/2025/05/17/no-cubicle-required-ai-coding-agents-start-work/ - Article `download()` failed with 403 Client Error: Max restarts limit reached for url: https://www.forbes.com/sites/adrianbridgwater/2025/05/17/no-cubicle-required-ai-coding-agents-start-work/ on URL https://www.forbes.com/sites/adrianbridgwater/2025/05/17/no-cubicle-required-ai-coding-agents-start-work/\n"
     ]
    },
    {
     "name": "stderr",
     "output_type": "stream",
     "text": [
      " 23%|██▎       | 14/60 [00:11<00:31,  1.46it/s]"
     ]
    },
    {
     "name": "stdout",
     "output_type": "stream",
     "text": [
      "Failed to extract https://siliconangle.com/2025/05/16/dell-poweredge-powerstore-powerprotect-ai-workloads-dellitinfrastructure/ - Article `download()` failed with 403 Client Error: Forbidden for url: https://siliconangle.com/2025/05/16/dell-poweredge-powerstore-powerprotect-ai-workloads-dellitinfrastructure/ on URL https://siliconangle.com/2025/05/16/dell-poweredge-powerstore-powerprotect-ai-workloads-dellitinfrastructure/\n"
     ]
    },
    {
     "name": "stderr",
     "output_type": "stream",
     "text": [
      " 37%|███▋      | 22/60 [00:24<00:48,  1.27s/it]"
     ]
    },
    {
     "name": "stdout",
     "output_type": "stream",
     "text": [
      "Failed to extract https://screenrant.com/satoshi-kon-impact-american-film-tragic/ - Article `download()` failed with ('Connection aborted.', RemoteDisconnected('Remote end closed connection without response')) on URL https://screenrant.com/satoshi-kon-impact-american-film-tragic/\n"
     ]
    },
    {
     "name": "stderr",
     "output_type": "stream",
     "text": [
      " 38%|███▊      | 23/60 [00:25<00:39,  1.07s/it]"
     ]
    },
    {
     "name": "stdout",
     "output_type": "stream",
     "text": [
      "Failed to extract https://bleedingcool.com/tv/wwe-smackdown-delivers-perfect-show-while-tony-khan-ruins-sleep/ - Article `download()` failed with 403 Client Error: Forbidden for url: https://bleedingcool.com/tv/wwe-smackdown-delivers-perfect-show-while-tony-khan-ruins-sleep/ on URL https://bleedingcool.com/tv/wwe-smackdown-delivers-perfect-show-while-tony-khan-ruins-sleep/\n"
     ]
    },
    {
     "name": "stderr",
     "output_type": "stream",
     "text": [
      "100%|██████████| 60/60 [01:18<00:00,  1.30s/it]"
     ]
    },
    {
     "name": "stdout",
     "output_type": "stream",
     "text": [
      "Extracted full content for 52 articles.\n"
     ]
    },
    {
     "name": "stderr",
     "output_type": "stream",
     "text": [
      "\n"
     ]
    }
   ],
   "source": [
    "extract_full_articles(\"../data/raw/newsapi_articles_2025-05-19.json\", \"../data/raw/newsapi_articles_fulltext.json\")"
   ]
  }
 ],
 "metadata": {
  "kernelspec": {
   "display_name": "llm-news",
   "language": "python",
   "name": "python3"
  },
  "language_info": {
   "codemirror_mode": {
    "name": "ipython",
    "version": 3
   },
   "file_extension": ".py",
   "mimetype": "text/x-python",
   "name": "python",
   "nbconvert_exporter": "python",
   "pygments_lexer": "ipython3",
   "version": "3.10.16"
  }
 },
 "nbformat": 4,
 "nbformat_minor": 5
}
