{
 "cells": [
  {
   "cell_type": "code",
   "execution_count": 1,
   "id": "69ed8df5",
   "metadata": {},
   "outputs": [],
   "source": [
    "import sys\n",
    "sys.path.append(\"../src\")"
   ]
  },
  {
   "cell_type": "code",
   "execution_count": 2,
   "id": "26ce574b",
   "metadata": {},
   "outputs": [],
   "source": [
    "from scraping.newsapi_scraper import fetch_news, save_articles"
   ]
  },
  {
   "cell_type": "code",
   "execution_count": 3,
   "id": "0c94dad1",
   "metadata": {},
   "outputs": [],
   "source": [
    "articles = fetch_news(query=\"machine learning\", from_days_ago=2, page_size=5, save=True)"
   ]
  },
  {
   "cell_type": "code",
   "execution_count": 4,
   "id": "ebcd7a78",
   "metadata": {},
   "outputs": [],
   "source": [
    "save_articles(articles)"
   ]
  },
  {
   "cell_type": "code",
   "execution_count": 5,
   "id": "3f79a08b",
   "metadata": {},
   "outputs": [
    {
     "name": "stdout",
     "output_type": "stream",
     "text": [
      "AI Is Deciphering Animal Speech. Should We Try to Talk Back? - 2025-05-17T10:00:59Z\n",
      "Climbing trees 1: what are decision trees? - 2025-05-18T02:56:39Z\n",
      "A guide to the Nvidia products driving the AI boom and beyond — from data center GPUs to automotive and consumer tech - 2025-05-17T10:11:01Z\n",
      "Google’s AlphaEvolve: The AI agent that reclaimed 0.7% of Google’s compute – and how to copy it - 2025-05-17T00:31:12Z\n",
      "Machine helping defeat West's enemies by predicting attacks before they happen... - 2025-05-17T13:43:37Z\n",
      "What Counts as Learning When AI Can Imitate It? - 2025-05-17T17:16:32Z\n",
      "7 best Samsung One UI features every Android phone should steal - 2025-05-17T14:19:10Z\n",
      "I replced Notion with this open-source alternative that even runs on my NAS - 2025-05-17T18:00:18Z\n",
      "OCaml Web Development: Essential Tools and Libraries in 2025 - 2025-05-17T19:13:07Z\n",
      "Gen Z's New College Calculus: Skills, Not Stadiums - 2025-05-17T17:39:18Z\n",
      "Behind Silicon Valley and the GOP's campaign to ban state AI laws - 2025-05-17T02:46:33Z\n",
      "No Cubicle Required, AI Coding Agents Start Work - 2025-05-17T14:32:56Z\n",
      "Confident infrastructure: How Dell is powering the AI era from the ground up - 2025-05-17T02:24:03Z\n",
      "Boffins devise technique that lets users prove location without giving it away - 2025-05-17T15:31:08Z\n",
      "Greywolfe CEO Ron Earley to Headline Oxford Keynote on the Future of AI and E-Commerce - 2025-05-17T21:31:00Z\n"
     ]
    }
   ],
   "source": [
    "for article in articles:\n",
    "    print(article[\"title\"], \"-\", article[\"published_at\"])"
   ]
  },
  {
   "cell_type": "code",
   "execution_count": null,
   "id": "14a12036",
   "metadata": {},
   "outputs": [],
   "source": []
  }
 ],
 "metadata": {
  "kernelspec": {
   "display_name": "llm-news",
   "language": "python",
   "name": "python3"
  },
  "language_info": {
   "codemirror_mode": {
    "name": "ipython",
    "version": 3
   },
   "file_extension": ".py",
   "mimetype": "text/x-python",
   "name": "python",
   "nbconvert_exporter": "python",
   "pygments_lexer": "ipython3",
   "version": "3.10.16"
  }
 },
 "nbformat": 4,
 "nbformat_minor": 5
}
