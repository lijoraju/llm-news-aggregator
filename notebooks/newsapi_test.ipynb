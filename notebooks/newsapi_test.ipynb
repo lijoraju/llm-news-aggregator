{
 "cells": [
  {
   "cell_type": "code",
   "execution_count": 5,
   "id": "69ed8df5",
   "metadata": {},
   "outputs": [],
   "source": [
    "import sys\n",
    "sys.path.append(\"../src\")"
   ]
  },
  {
   "cell_type": "code",
   "execution_count": 6,
   "id": "26ce574b",
   "metadata": {},
   "outputs": [],
   "source": [
    "from scraping.newsapi_scraper import fetch_news"
   ]
  },
  {
   "cell_type": "code",
   "execution_count": 7,
   "id": "0c94dad1",
   "metadata": {},
   "outputs": [],
   "source": [
    "articles = fetch_news(query=\"machine learning\", from_days_ago=2, page_size=5)"
   ]
  },
  {
   "cell_type": "code",
   "execution_count": 8,
   "id": "3f79a08b",
   "metadata": {},
   "outputs": [
    {
     "name": "stdout",
     "output_type": "stream",
     "text": [
      "X X^t can be faster - 2025-05-16T15:45:30Z\n",
      "Jamie Dimon has a very specific image of the WFH employee - 2025-05-16T02:11:42Z\n",
      "Google’s AlphaEvolve: The AI agent that reclaimed 0.7% of Google’s compute – and how to copy it - 2025-05-17T00:31:12Z\n",
      "These Tiny Earphones Translate Between 15 Languages Using AI - 2025-05-16T18:50:22Z\n",
      "Meta's Llama has reached a turning point with developers as delays and disappointment mount - 2025-05-16T09:00:02Z\n"
     ]
    }
   ],
   "source": [
    "for article in articles:\n",
    "    print(article[\"title\"], \"-\", article[\"published_at\"])"
   ]
  }
 ],
 "metadata": {
  "kernelspec": {
   "display_name": "llm-news",
   "language": "python",
   "name": "python3"
  },
  "language_info": {
   "codemirror_mode": {
    "name": "ipython",
    "version": 3
   },
   "file_extension": ".py",
   "mimetype": "text/x-python",
   "name": "python",
   "nbconvert_exporter": "python",
   "pygments_lexer": "ipython3",
   "version": "3.10.16"
  }
 },
 "nbformat": 4,
 "nbformat_minor": 5
}
