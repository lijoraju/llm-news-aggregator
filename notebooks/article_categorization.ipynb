{
 "cells": [
  {
   "cell_type": "code",
   "execution_count": null,
   "id": "76885798",
   "metadata": {},
   "outputs": [],
   "source": [
    "!pip install transformers --quiet"
   ]
  },
  {
   "cell_type": "code",
   "execution_count": null,
   "id": "5f3dd9d1",
   "metadata": {},
   "outputs": [],
   "source": [
    "import json\n",
    "from transformers import pipeline\n",
    "\n",
    "input_path = \"cleaned_AI_summarized.json\"\n",
    "output_path = \"cleaned_AI_summarized_tagged.json\""
   ]
  },
  {
   "cell_type": "code",
   "execution_count": null,
   "id": "54b65347",
   "metadata": {},
   "outputs": [],
   "source": [
    "with open(input_path, \"r\", encoding=\"utf-8\") as f:\n",
    "    articles = json.dump(f)\n",
    "\n",
    "print(f\"Loaded {len(articles)} articles for classification\")"
   ]
  },
  {
   "cell_type": "code",
   "execution_count": null,
   "id": "28e5f8e2",
   "metadata": {},
   "outputs": [],
   "source": [
    "candidate_labels = [\"Technology\", \"Business\", \"Health\", \"Sports\", \"Science\", \"Politics\"]"
   ]
  },
  {
   "cell_type": "code",
   "execution_count": null,
   "id": "3d7a2446",
   "metadata": {},
   "outputs": [],
   "source": [
    "classifier = pipeline(\"zero-shot-classification\", model=\"facebook/bart-large-mnli\", device_map=\"auto\")"
   ]
  },
  {
   "cell_type": "code",
   "execution_count": null,
   "id": "7552c6b2",
   "metadata": {},
   "outputs": [],
   "source": [
    "def classify_articles(articles, candidate_labels, batch_size=8):\n",
    "    classified = []\n",
    "    summaries = [article['summary'] for article in articles]\n",
    "    \n",
    "    for i in range(0, len(summaries), batch_size):\n",
    "        batch_summaries = summaries[i:i + batch_size]\n",
    "\n",
    "        try:\n",
    "            batch_results = classifier(batch_summaries, candidate_labels)\n",
    "\n",
    "            for j, result in enumerate(batch_results):\n",
    "                articles[i+j]['category'] = result['labels'][0]\n",
    "                classified.append(articles[i+j])\n",
    "        \n",
    "        except Exception as e:\n",
    "            print(f\"Error processing batch starting with '{batch_summaries[0][:50]}' | {str(e)}\")\n",
    "    \n",
    "    return classified"
   ]
  },
  {
   "cell_type": "code",
   "execution_count": null,
   "id": "c64b9d94",
   "metadata": {},
   "outputs": [],
   "source": [
    "tagged_articles = classify_articles(articles, candidate_labels)\n",
    "\n",
    "with open(output_path, \"w\", encoding=\"utf-8\") as f:\n",
    "    json.dump(tagged_articles, f, indent=2, ensure_ascii=False)\n",
    "\n",
    "print(f\"Tagged {len(tagged_articles)} articles with categories.\")"
   ]
  }
 ],
 "metadata": {
  "language_info": {
   "name": "python"
  }
 },
 "nbformat": 4,
 "nbformat_minor": 5
}
