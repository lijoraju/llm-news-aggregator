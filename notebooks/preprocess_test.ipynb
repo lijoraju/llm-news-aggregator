{
 "cells": [
  {
   "cell_type": "code",
   "execution_count": 1,
   "id": "920fc68d",
   "metadata": {},
   "outputs": [],
   "source": [
    "import sys\n",
    "import os\n",
    "sys.path.append(os.path.abspath(\"../src\"))"
   ]
  },
  {
   "cell_type": "code",
   "execution_count": 2,
   "id": "a45234f8",
   "metadata": {},
   "outputs": [],
   "source": [
    "from preprocessing.preprocess import preprocess_articles"
   ]
  },
  {
   "cell_type": "code",
   "execution_count": 3,
   "id": "3296350a",
   "metadata": {},
   "outputs": [
    {
     "name": "stdout",
     "output_type": "stream",
     "text": [
      "Preprocessed 46 articles saved to ../data/processed/cleaned_AI.json\n"
     ]
    }
   ],
   "source": [
    "input_file = \"../data/raw/newsapi_articles_fulltext.json\"\n",
    "output_file = \"../data/processed/cleaned_AI.json\"\n",
    "\n",
    "preprocess_articles(input_file, output_file)"
   ]
  }
 ],
 "metadata": {
  "kernelspec": {
   "display_name": "llm-news",
   "language": "python",
   "name": "python3"
  },
  "language_info": {
   "codemirror_mode": {
    "name": "ipython",
    "version": 3
   },
   "file_extension": ".py",
   "mimetype": "text/x-python",
   "name": "python",
   "nbconvert_exporter": "python",
   "pygments_lexer": "ipython3",
   "version": "3.10.16"
  }
 },
 "nbformat": 4,
 "nbformat_minor": 5
}
