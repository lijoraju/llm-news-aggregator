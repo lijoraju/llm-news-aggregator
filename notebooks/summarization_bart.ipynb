{
 "cells": [
  {
   "cell_type": "code",
   "execution_count": null,
   "id": "40250e99",
   "metadata": {},
   "outputs": [],
   "source": [
    "!pip install transformers datasets --quiet"
   ]
  },
  {
   "cell_type": "code",
   "execution_count": null,
   "id": "389a2920",
   "metadata": {},
   "outputs": [],
   "source": [
    "import json\n",
    "from transformers import pipeline\n",
    "\n",
    "input_path = \"cleaned_AI.json\"\n",
    "output_path = \"cleaned_AI_summarized.json\""
   ]
  },
  {
   "cell_type": "code",
   "execution_count": null,
   "id": "b02f03fa",
   "metadata": {},
   "outputs": [],
   "source": [
    "with open(input_path, \"r\", encoding=\"utf-8\") as f:\n",
    "    articles = json.load(f)\n",
    "\n",
    "print(f\"Loaded {len(articles)} cleaned articles\")"
   ]
  },
  {
   "cell_type": "code",
   "execution_count": null,
   "id": "285f238b",
   "metadata": {},
   "outputs": [],
   "source": [
    "summarizer = pipeline(\"summarization\", model=\"facebook/bart-large-cnn\", device_map=\"auto\")"
   ]
  },
  {
   "cell_type": "code",
   "execution_count": null,
   "id": "30baeb52",
   "metadata": {},
   "outputs": [],
   "source": [
    "def summarize_articles(articles, batch_size=8, max_input_tokens=1024):\n",
    "    summarized = []\n",
    "    valid_indices = []\n",
    "    valid_texts = []\n",
    "\n",
    "    for idx, article in enumerate(articles):\n",
    "        text = article['content']\n",
    "        if len(text.split()) >= 50:\n",
    "            valid_indices.append(idx)\n",
    "            valid_texts.append(text[:max_input_tokens])\n",
    "\n",
    "    for i in range(0, len(valid_texts), batch_size):\n",
    "        batch_texts = valid_texts[i:i + batch_size]\n",
    "        batch_indices = valid_indices[i:i + batch_size]\n",
    "        try:\n",
    "            summaries = summarizer(batch_texts, max_length=130, min_length=30, do_sample=False)\n",
    "            for idx, summary in zip(batch_indices, summaries):\n",
    "                article = articles[idx].copy()\n",
    "                article['summary'] = summary['summary_text']\n",
    "                summarized.append(article)\n",
    "        except Exception as e:\n",
    "            print(f\"Skipping batch {i} due to error: {e}\")\n",
    "\n",
    "    return summarized"
   ]
  },
  {
   "cell_type": "code",
   "execution_count": null,
   "id": "d01fd3ca",
   "metadata": {},
   "outputs": [],
   "source": [
    "summarized_articles = summarize_articles(articles)\n",
    "\n",
    "with open(output_path, \"w\", encoding=\"utf-8\") as f:\n",
    "    json.dump(summarized_articles, f, indent=2, ensure_ascii=False)\n",
    "\n",
    "print(f\"Summarized {len(summarized_articles)} articles\")"
   ]
  }
 ],
 "metadata": {
  "language_info": {
   "name": "python"
  }
 },
 "nbformat": 4,
 "nbformat_minor": 5
}
