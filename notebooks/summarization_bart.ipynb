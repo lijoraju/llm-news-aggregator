{
 "cells": [
  {
   "cell_type": "code",
   "execution_count": null,
   "id": "40250e99",
   "metadata": {},
   "outputs": [],
   "source": [
    "!pip install transformers datasets --quiet"
   ]
  },
  {
   "cell_type": "code",
   "execution_count": null,
   "id": "389a2920",
   "metadata": {},
   "outputs": [],
   "source": [
    "import json\n",
    "from transformers import pipeline\n",
    "\n",
    "input_path = \"cleaned_AI.json\"\n",
    "output_path = \"cleaned_AI_summarized.json\""
   ]
  },
  {
   "cell_type": "code",
   "execution_count": null,
   "id": "b02f03fa",
   "metadata": {},
   "outputs": [],
   "source": [
    "with open(input_path, \"r\", encoding=\"utf-8\") as f:\n",
    "    articles = json.load(f)\n",
    "\n",
    "print(f\"Loaded {len(articles)} cleaned articles\")"
   ]
  },
  {
   "cell_type": "code",
   "execution_count": null,
   "id": "285f238b",
   "metadata": {},
   "outputs": [],
   "source": [
    "summarizer = pipeline(\"summarization\", model=\"facebook/bart-large-cnn\", device_map=\"auto\")"
   ]
  },
  {
   "cell_type": "code",
   "execution_count": null,
   "id": "56d83f9b",
   "metadata": {},
   "outputs": [],
   "source": [
    "def summarize_articles(articles, batch_size=8, max_input_tokens=1024):\n",
    "    summarized = []\n",
    "    texts = []\n",
    "\n",
    "    for article in articles:\n",
    "        text = article['content']\n",
    "        if len(text.split()) >= 50:\n",
    "            texts.append(text[:max_input_tokens])\n",
    "        else:\n",
    "            texts.append(None)\n",
    "\n",
    "    for i in range(0, len(texts), batch_size):\n",
    "            batch = texts[i:i + batch_size]\n",
    "            valid_batch = [t for t in batch if t is not None]\n",
    "\n",
    "            try:\n",
    "                summaries = summarizer(valid_batch, max_length=130, min_length=30, do_sample=False)\n",
    "                j = 0\n",
    "                for k, text in enumerate(batch):\n",
    "                     if text is not None:\n",
    "                        articles[i+k]['summary'] = summaries[j]['summary_text']\n",
    "                        summarized.append(articles[i+k])\n",
    "                        j +=1\n",
    "            except Exception as e:\n",
    "                print(f\"Skipping batch {i} due to error: {e}\")\n",
    "    \n",
    "    return summarized"
   ]
  },
  {
   "cell_type": "code",
   "execution_count": null,
   "id": "d01fd3ca",
   "metadata": {},
   "outputs": [],
   "source": [
    "summarized_articles = summarize_articles(articles)\n",
    "\n",
    "with open(output_path, \"w\", encoding=\"utf-8\") as f:\n",
    "    json.dump(summarized_articles, f, indent=2, ensure_ascii=False)\n",
    "\n",
    "print(f\"Summarized {len(summarized_articles)} articles\")"
   ]
  }
 ],
 "metadata": {
  "language_info": {
   "name": "python"
  }
 },
 "nbformat": 4,
 "nbformat_minor": 5
}
