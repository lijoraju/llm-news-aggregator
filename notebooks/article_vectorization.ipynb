{
 "cells": [
  {
   "cell_type": "code",
   "execution_count": null,
   "id": "01c780dd",
   "metadata": {},
   "outputs": [],
   "source": [
    "!pip install sentence-transformers faiss-cpu --queit "
   ]
  },
  {
   "cell_type": "code",
   "execution_count": null,
   "id": "d9c81c78",
   "metadata": {},
   "outputs": [],
   "source": [
    "import json\n",
    "from sentence_transformers import SentenceTransformer\n",
    "import faiss\n",
    "import numpy as np\n",
    "\n",
    "input_path=\"cleaned_AI_summarized_tagged.json\"\n",
    "index_path=\"articles_faiss.index\"\n",
    "metadata_path=\"article_metadata.json\""
   ]
  },
  {
   "cell_type": "code",
   "execution_count": null,
   "id": "5e0e14e8",
   "metadata": {},
   "outputs": [],
   "source": [
    "with open(input_path, \"r\", encoding=\"utf-8\") as f:\n",
    "    articles = json.load(f)"
   ]
  },
  {
   "cell_type": "code",
   "execution_count": null,
   "id": "9a4ac5bd",
   "metadata": {},
   "outputs": [],
   "source": [
    "embedder = SentenceTransformer(\"sentence-transformers/all-MiniLM-L6-v2\")"
   ]
  },
  {
   "cell_type": "code",
   "execution_count": null,
   "id": "7ffa9ab4",
   "metadata": {},
   "outputs": [],
   "source": [
    "texts = [a[\"title\"] + \". \" + a[\"summary\"] for a in articles]\n",
    "embeddings = embedder.encode(texts, show_progress_bar=True)"
   ]
  },
  {
   "cell_type": "code",
   "execution_count": null,
   "id": "d677e0bd",
   "metadata": {},
   "outputs": [],
   "source": [
    "embedding_dim = embeddings[0].shape[0]\n",
    "index = faiss.IndexFlatL2(embedding_dim)\n",
    "index.add(np.array(embeddings).astype(\"float32\"))\n",
    "\n",
    "print(\"Added\", index.ntotal, \"vectors to FAISS index\")"
   ]
  },
  {
   "cell_type": "code",
   "execution_count": null,
   "id": "1664184d",
   "metadata": {},
   "outputs": [],
   "source": [
    "def search_articles(query, k=5):\n",
    "    if not isinstance(query, list):\n",
    "        query_vec = embedder.encode([query])\n",
    "    else:\n",
    "        query_vec = embedder.encode(query)\n",
    "\n",
    "    D, I = index.search(np.array(query_vec).astype(\"float32\"), k=5)\n",
    "\n",
    "    for i in I[0]:\n",
    "        print(\"📰\", articles[i][\"title\"])\n",
    "        print(\"✂️\", articles[i][\"summary\"])\n",
    "        print(\"🏷️\", articles[i][\"category\"])\n",
    "        print(\"-\" * 60)\n",
    "\n",
    "# Example\n",
    "search_articles(\"AI applications in healthcare and medicine\", k=5)"
   ]
  },
  {
   "cell_type": "code",
   "execution_count": null,
   "id": "86cee631",
   "metadata": {},
   "outputs": [],
   "source": [
    "faiss.write_index(index, index_path)\n",
    "\n",
    "with open(metadata_path, \"w\", encoding=\"utf-8\") as f:\n",
    "    json.dump(articles, f, indent=2)"
   ]
  }
 ],
 "metadata": {
  "language_info": {
   "name": "python"
  }
 },
 "nbformat": 4,
 "nbformat_minor": 5
}
